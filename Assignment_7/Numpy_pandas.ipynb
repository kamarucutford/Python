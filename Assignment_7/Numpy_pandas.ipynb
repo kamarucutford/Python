{
 "cells": [
  {
   "cell_type": "code",
   "execution_count": 40,
   "id": "08200fd2-0f8a-4f9e-a7f4-c357756b8b42",
   "metadata": {},
   "outputs": [],
   "source": [
    "# import numpy as np\n",
    "\n",
    "# Create the numpy array from 1 to 10\n",
    "arr = np.arange(1, 11)\n",
    "\n"
   ]
  },
  {
   "cell_type": "code",
   "execution_count": 18,
   "id": "9199562d-6796-4845-ac43-a18347555de8",
   "metadata": {},
   "outputs": [
    {
     "name": "stdout",
     "output_type": "stream",
     "text": [
      "[[ 1  2  3  4  5]\n",
      " [ 6  7  8  9 10]]\n"
     ]
    }
   ],
   "source": [
    "reshaped_arr = arr.reshape(2,5 )\n",
    "print(reshaped_arr)"
   ]
  },
  {
   "cell_type": "code",
   "execution_count": 20,
   "id": "59a57181-75d6-4027-9f55-184112041257",
   "metadata": {},
   "outputs": [
    {
     "name": "stdout",
     "output_type": "stream",
     "text": [
      "[ 6  7  8  9 10 11 12 13 14 15]\n"
     ]
    }
   ],
   "source": [
    "arr = np.arange(1,21)\n",
    "\n",
    "subset = arr[5:15]\n",
    "print(subset)"
   ]
  },
  {
   "cell_type": "code",
   "execution_count": 32,
   "id": "03574b40-9e0f-441f-8c26-8a3c6d6e6241",
   "metadata": {},
   "outputs": [
    {
     "name": "stdout",
     "output_type": "stream",
     "text": [
      "apples     3\n",
      "bananas    2\n",
      "oranges    1\n",
      "pears      4\n",
      "dtype: int64\n"
     ]
    }
   ],
   "source": [
    "import pandas as pd\n",
    "\n",
    "\n",
    "fruits = pd.Series({'apples': 3, 'bananas': 2, 'oranges': 1})\n",
    "\n",
    "\n",
    "fruits['pears'] = 4\n",
    "print(fruits)\n"
   ]
  },
  {
   "cell_type": "code",
   "execution_count": 34,
   "id": "7f7658de-c4fc-4cf5-8f55-7d9ed53d2d16",
   "metadata": {},
   "outputs": [
    {
     "name": "stdout",
     "output_type": "stream",
     "text": [
      "       name  age gender\n",
      "0     Ardra   24      F\n",
      "1    Sageer   30      M\n",
      "2    Dinesh   35      M\n",
      "3      Arun   40      M\n",
      "4  Sukumari   22      F\n",
      "5   Francis   28      M\n",
      "6     Grace   33      F\n",
      "7     Helen   26      F\n",
      "8   Sundari   31      F\n",
      "9    Deepak   29      M\n"
     ]
    }
   ],
   "source": [
    "data = {\n",
    "    'name': ['Ardra', 'Sageer', 'Dinesh', 'Arun', 'Sukumari', 'Francis', 'Grace', 'Helen', 'Sundari', 'Deepak'],\n",
    "    'age': [24, 30, 35, 40, 22, 28, 33, 26, 31, 29],\n",
    "    'gender': ['F', 'M', 'M', 'M', 'F', 'M', 'F', 'F', 'F', 'M']\n",
    "}\n",
    "\n",
    "df = pd.DataFrame(data)\n",
    "print(df)\n"
   ]
  },
  {
   "cell_type": "code",
   "execution_count": 36,
   "id": "11009beb-f5ec-491c-a0c8-3b0c5274a8ec",
   "metadata": {},
   "outputs": [
    {
     "name": "stdout",
     "output_type": "stream",
     "text": [
      "       name  age gender  occupation\n",
      "0     Ardra   24      F  Programmer\n",
      "1    Sageer   30      M     Manager\n",
      "2    Dinesh   35      M     Analyst\n",
      "3      Arun   40      M  Programmer\n",
      "4  Sukumari   22      F     Manager\n",
      "5   Francis   28      M     Analyst\n",
      "6     Grace   33      F  Programmer\n",
      "7     Helen   26      F     Manager\n",
      "8   Sundari   31      F     Analyst\n",
      "9    Deepak   29      M  Programmer\n"
     ]
    }
   ],
   "source": [
    "occupations = ['Programmer', 'Manager', 'Analyst', 'Programmer', 'Manager', 'Analyst', 'Programmer', 'Manager', 'Analyst', 'Programmer']\n",
    "\n",
    "df['occupation'] = occupations\n",
    "print(df)\n"
   ]
  },
  {
   "cell_type": "code",
   "execution_count": 38,
   "id": "156fa9e9-db91-404b-bc13-4d736cee2fe6",
   "metadata": {},
   "outputs": [
    {
     "name": "stdout",
     "output_type": "stream",
     "text": [
      "      name  age gender  occupation\n",
      "1   Sageer   30      M     Manager\n",
      "2   Dinesh   35      M     Analyst\n",
      "3     Arun   40      M  Programmer\n",
      "6    Grace   33      F  Programmer\n",
      "8  Sundari   31      F     Analyst\n"
     ]
    }
   ],
   "source": [
    "filtered_df = df[df['age'] >= 30]\n",
    "print(filtered_df)\n"
   ]
  },
  {
   "cell_type": "code",
   "execution_count": 42,
   "id": "548a8ca5-caef-4c1c-aecb-363f70c794b7",
   "metadata": {},
   "outputs": [
    {
     "name": "stdout",
     "output_type": "stream",
     "text": [
      "       name  age gender  occupation\n",
      "0     Ardra   24      F  Programmer\n",
      "1    Sageer   30      M     Manager\n",
      "2    Dinesh   35      M     Analyst\n",
      "3      Arun   40      M  Programmer\n",
      "4  Sukumari   22      F     Manager\n",
      "5   Francis   28      M     Analyst\n",
      "6     Grace   33      F  Programmer\n",
      "7     Helen   26      F     Manager\n",
      "8   Sundari   31      F     Analyst\n",
      "9    Deepak   29      M  Programmer\n"
     ]
    }
   ],
   "source": [
    "df.to_csv('data.csv', index=False)\n",
    "\n",
    "read_df = pd.read_csv('data.csv')\n",
    "print(read_df)\n"
   ]
  },
  {
   "cell_type": "code",
   "execution_count": null,
   "id": "85b24d7d-5ad2-442d-857a-0eb9cd7bac34",
   "metadata": {},
   "outputs": [],
   "source": []
  }
 ],
 "metadata": {
  "kernelspec": {
   "display_name": "Python 3 (ipykernel)",
   "language": "python",
   "name": "python3"
  },
  "language_info": {
   "codemirror_mode": {
    "name": "ipython",
    "version": 3
   },
   "file_extension": ".py",
   "mimetype": "text/x-python",
   "name": "python",
   "nbconvert_exporter": "python",
   "pygments_lexer": "ipython3",
   "version": "3.12.7"
  }
 },
 "nbformat": 4,
 "nbformat_minor": 5
}
